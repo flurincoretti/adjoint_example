{
 "cells": [
  {
   "cell_type": "markdown",
   "metadata": {},
   "source": [
    "# Stokes 2D\n",
    "\n",
    "Staggered-grid finite-difference implementation of the _Data-Assimilation Example from Glaciology_ given in [1]."
   ]
  },
  {
   "cell_type": "code",
   "execution_count": 1,
   "metadata": {},
   "outputs": [],
   "source": [
    "import numpy as np\n",
    "from scipy.optimize import minimize\n",
    "import matplotlib.pyplot as plt"
   ]
  },
  {
   "cell_type": "code",
   "execution_count": 2,
   "metadata": {},
   "outputs": [],
   "source": [
    "# Parameters\n",
    "alpha = 0.1/180*np.pi # inclination of the plane\n",
    "height = 1.0e3        # height of the ice sheet (m)\n",
    "length = 2.0e4        # length of the domain (m)\n",
    "nx = 32               # number of grid points in x-direction\n",
    "ny = 16               # number of grid points in y-direction\n",
    "rho = 910.0           # density of ice, kg m^-3\n",
    "mu = 1.0              # viscosity (temp)\n",
    "g = 9.81              # gravitational acceleration (m s^-2)\n",
    "A_glen = 1.0e-16      # Glen flow parameter (Pa^-n a^-1)\n",
    "n_glen = 3            # Glen exponent\n",
    "N = 30                # number of coefficients in the trigonometric expansion of beta^2"
   ]
  },
  {
   "cell_type": "code",
   "execution_count": 3,
   "metadata": {},
   "outputs": [],
   "source": [
    "# Grid setup\n",
    "hx = length/(nx-1)               # grid spacing in x-direction\n",
    "hy = height/(ny-1)               # grid spacing in y-direction\n",
    "x = np.arange(0,length+hx,hx)    # Note: +hx\n",
    "y = np.arange(0,height+hy,hy)\n",
    "X, Y = np.meshgrid(x,y)\n",
    "Ux = (X[1:]+X[:-1])/2\n",
    "Uy = (Y[1:]+Y[:-1])/2\n",
    "Vx = (X[:,1:]+X[:,:-1])/2\n",
    "Vy = (Y[:,1:]+Y[:,:-1])/2\n",
    "Px = (X[1:,1:]+X[:-1,:-1])/2\n",
    "Py = (Y[1:,1:]+Y[:-1,:-1])/2"
   ]
  },
  {
   "cell_type": "code",
   "execution_count": null,
   "metadata": {},
   "outputs": [],
   "source": []
  },
  {
   "cell_type": "markdown",
   "metadata": {},
   "source": [
    "## References\n",
    "\n",
    "[1] Granzow, G. (2014). A tutorial on adjoint methods and their use for data assimilation in glaciology. Journal of Glaciology, 60(221), 440-446. doi:10.3189/2014JoG13J205\n",
    "\n",
    "[2] Becker, T. W. and B. J. P. Kaus (2013). Numerical Modeling of Earth Systems. An introduction to computational methods with focus on solid Earth applications of continuum mechanics. Lecture notes, available online at http://www-udc.ig.utexas.edu/external/becker/Geodynamics557.pdf, accessed 01/2018."
   ]
  }
 ],
 "metadata": {
  "kernelspec": {
   "display_name": "Python 3",
   "language": "python",
   "name": "python3"
  },
  "language_info": {
   "codemirror_mode": {
    "name": "ipython",
    "version": 3
   },
   "file_extension": ".py",
   "mimetype": "text/x-python",
   "name": "python",
   "nbconvert_exporter": "python",
   "pygments_lexer": "ipython3",
   "version": "3.7.0"
  }
 },
 "nbformat": 4,
 "nbformat_minor": 2
}
