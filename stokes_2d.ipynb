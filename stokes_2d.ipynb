{
 "cells": [
  {
   "cell_type": "markdown",
   "metadata": {},
   "source": [
    "# Stokes 2D\n",
    "\n",
    "Staggered-grid finite-difference implementation of the _Data-Assimilation Example from Glaciology_ given in [1]."
   ]
  },
  {
   "cell_type": "code",
   "execution_count": 1,
   "metadata": {},
   "outputs": [],
   "source": [
    "import numpy as np\n",
    "from scipy import optimize, signal\n",
    "import matplotlib.pyplot as plt"
   ]
  },
  {
   "cell_type": "code",
   "execution_count": 2,
   "metadata": {},
   "outputs": [],
   "source": [
    "# Parameters\n",
    "alpha = 0.1/180*np.pi # inclination of the plane\n",
    "height = 1.0e3        # height of the ice sheet (m)\n",
    "length = 2.0e4        # length of the domain (m)\n",
    "nx = 32               # number of grid points in x-direction\n",
    "ny = 16               # number of grid points in y-direction\n",
    "rho = 910.0           # density of ice, kg m^-3\n",
    "mu0 = 1.0             # initial viscosity\n",
    "g = 9.81              # gravitational acceleration (m s^-2)\n",
    "A_glen = 1.0e-16      # Glen flow parameter (Pa^-n a^-1)\n",
    "n_glen = 3            # Glen exponent\n",
    "N = 30                # number of coefficients in the trigonometric expansion of beta^2"
   ]
  },
  {
   "cell_type": "code",
   "execution_count": 3,
   "metadata": {},
   "outputs": [],
   "source": [
    "# Grid setup\n",
    "hx = length/(nx-1)               # grid spacing in x-direction\n",
    "hy = height/(ny-1)               # grid spacing in y-direction\n",
    "x = np.linspace(0,length,nx)\n",
    "y = np.linspace(0,height,ny)\n",
    "X, Y = np.meshgrid(x,y)\n",
    "Ux = (X[1:]+X[:-1])/2\n",
    "Uy = (Y[1:]+Y[:-1])/2\n",
    "Vx = (X[:,1:]+X[:,:-1])/2\n",
    "Vy = (Y[:,1:]+Y[:,:-1])/2\n",
    "Px = (X[1:,1:]+X[:-1,:-1])/2\n",
    "Py = (Y[1:,1:]+Y[:-1,:-1])/2"
   ]
  },
  {
   "cell_type": "code",
   "execution_count": 4,
   "metadata": {},
   "outputs": [],
   "source": [
    "# Numbering scheme\n",
    "scheme = np.zeros((2*ny-1, 2*nx-1), dtype=\"int\")\n",
    "for i in range(0,2*ny-1):\n",
    "    for j in range(0,2*nx-1):\n",
    "        if i%2!=0 and j%2==0: scheme[i,j] = 1 # u\n",
    "        if i%2==0 and j%2!=0: scheme[i,j] = 2 # v\n",
    "        if i%2!=0 and j%2!=0: scheme[i,j] = 3 # p\n",
    "            \n",
    "# Reshaped vector of indices\n",
    "n_equations = (2*nx-1)*(2*ny-1)\n",
    "indices = np.arange(0,n_equations).reshape(2*ny-1, 2*nx-1, order=\"C\")\n",
    "\n",
    "# Indices of u, v, and p\n",
    "u_indices = indices[scheme==1]\n",
    "v_indices = indices[scheme==2]\n",
    "p_indices = indices[scheme==3]\n",
    "mu_indices = indices[(scheme==0) | (scheme==3)]\n",
    "\n",
    "# Indices of the entries of Ux and Uy, Vx and Vy, Px and Py, respectively\n",
    "U_indices = u_indices.reshape(ny-1, nx)\n",
    "V_indices = v_indices.reshape(ny, nx-1)\n",
    "P_indices = p_indices.reshape(ny-1, nx-1)"
   ]
  },
  {
   "cell_type": "code",
   "execution_count": 5,
   "metadata": {},
   "outputs": [],
   "source": [
    "# Initialize the viscosity mu\n",
    "mu_glen = mu0*np.ones((2*ny-1, 2*nx-1))\n",
    "np.put(mu_glen, indices[(scheme==1) | (scheme==2)], 1)\n",
    "MU_glen = mu_glen.reshape(2*ny-1, 2*nx-1)\n",
    "\n",
    "# Compute mu at different grid points (1st variant)\n",
    "# MU_tmp = np.zeros((2*ny+1, 2*nx+1))\n",
    "# MU_tmp[1:-1,1:-1] = MU_glen\n",
    "# MU_tmp[:,0] = MU_tmp[:,2]; MU_tmp[:,-1] = MU_tmp[:,-3]\n",
    "# MU_tmp[0,:] = MU_tmp[2,:]; MU_tmp[-1,:] = MU_tmp[-3,:]\n",
    "# kernel = np.array([[0,1,0],[1,0,1],[0,1,0]])\n",
    "# MU_tmp_averages = signal.convolve2d(MU_tmp, kernel, boundary='fill', mode='same')/kernel.sum()\n",
    "# MU_averages = MU_tmp_averages[1:-1,1:-1]\n",
    "\n",
    "# Compute mu at different grid points (2nd variant)\n",
    "kernel = np.array([[0,1,0],[1,0,1],[0,1,0]])\n",
    "MU_averages = signal.convolve2d(MU_glen, kernel, boundary='fill', mode='same')/kernel.sum()\n",
    "MU_averages[0,0] *= 2; MU_averages[0,2*nx-2] *= 2                   # fix top left and right entries\n",
    "MU_averages[1:2*ny-2,0] *= 4/3; MU_averages[1:2*ny-2,2*nx-2] *= 4/3 # fix first and last row\n",
    "MU_averages[0,1:2*nx-2] *= 4/3; MU_averages[2*ny-2,1:2*nx-2] *= 4/3 # fix first and last col\n",
    "MU_averages[2*ny-2,0] *= 2; MU_averages[2*ny-2,2*nx-2] *= 2         # fix bottom left and right entries\n",
    "\n",
    "# Extract the relevant values\n",
    "mu_averages_flat = MU_averages.flatten()\n",
    "mu_averages = mu_averages_flat[mu_indices]"
   ]
  },
  {
   "cell_type": "code",
   "execution_count": 6,
   "metadata": {},
   "outputs": [],
   "source": [
    "# Initialize the vector of unknowns\n",
    "x_values = np.zeros((n_equations))"
   ]
  },
  {
   "cell_type": "code",
   "execution_count": 7,
   "metadata": {},
   "outputs": [],
   "source": [
    "# Extract values of U, V, and P from x_values\n",
    "u_values = np.take(x_values, u_indices)\n",
    "U_values = u_values.reshape((ny-1), nx)\n",
    "v_values = np.take(x_values, v_indices)\n",
    "V_values = v_values.reshape(ny, nx-1)\n",
    "p_values = np.take(x_values, p_indices)\n",
    "P_values = p_values.reshape(ny-1, nx-1)"
   ]
  },
  {
   "cell_type": "code",
   "execution_count": 8,
   "metadata": {},
   "outputs": [],
   "source": [
    "# How to obtain the value of u with a specific index\n",
    "index = 217\n",
    "value = u_values[np.where(u_indices==index)[0][0]]"
   ]
  },
  {
   "cell_type": "code",
   "execution_count": null,
   "metadata": {},
   "outputs": [],
   "source": []
  },
  {
   "cell_type": "markdown",
   "metadata": {},
   "source": [
    "## References\n",
    "\n",
    "[1] Granzow, G. (2014). A tutorial on adjoint methods and their use for data assimilation in glaciology. Journal of Glaciology, 60(221), 440-446. doi:10.3189/2014JoG13J205\n",
    "\n",
    "[2] Becker, T. W. and B. J. P. Kaus (2013). Numerical Modeling of Earth Systems. An introduction to computational methods with focus on solid Earth applications of continuum mechanics. Lecture notes, available online at http://www-udc.ig.utexas.edu/external/becker/Geodynamics557.pdf, accessed 01/2018."
   ]
  }
 ],
 "metadata": {
  "kernelspec": {
   "display_name": "Python 3",
   "language": "python",
   "name": "python3"
  },
  "language_info": {
   "codemirror_mode": {
    "name": "ipython",
    "version": 3
   },
   "file_extension": ".py",
   "mimetype": "text/x-python",
   "name": "python",
   "nbconvert_exporter": "python",
   "pygments_lexer": "ipython3",
   "version": "3.7.0"
  }
 },
 "nbformat": 4,
 "nbformat_minor": 2
}
