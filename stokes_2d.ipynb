{
 "cells": [
  {
   "cell_type": "markdown",
   "metadata": {},
   "source": [
    "# Stokes 2D\n",
    "\n",
    "Staggered-grid finite-difference implementation of the _Data-Assimilation Example from Glaciology_ given in [1]."
   ]
  },
  {
   "cell_type": "code",
   "execution_count": null,
   "metadata": {},
   "outputs": [],
   "source": [
    "import numpy as np\n",
    "from scipy import optimize, signal\n",
    "import matplotlib.pyplot as plt"
   ]
  },
  {
   "cell_type": "code",
   "execution_count": null,
   "metadata": {},
   "outputs": [],
   "source": [
    "# Parameters\n",
    "alpha = 0.1/180*np.pi # inclination of the plane\n",
    "height = 1.0e3        # height of the ice sheet (m)\n",
    "length = 2.0e4        # length of the domain (m)\n",
    "nx = 32               # number of grid points in x-direction\n",
    "ny = 24               # number of grid points in y-direction, >3\n",
    "gamma = 1.0e4         # penalty parameter\n",
    "rho = 910.0           # density of ice, kg m^-3\n",
    "mu0 = 1.0             # initial viscosity\n",
    "g = 9.81              # gravitational acceleration (m s^-2)\n",
    "A_glen = 1.0e-16      # Glen flow parameter (Pa^-n a^-1)\n",
    "n_glen = 3            # Glen exponent\n",
    "N = 30                # number of coefficients in the trigonometric expansion of beta^2"
   ]
  },
  {
   "cell_type": "code",
   "execution_count": null,
   "metadata": {},
   "outputs": [],
   "source": [
    "# Setup the grid\n",
    "hx = length/(nx-1)\n",
    "hy = height/(ny-1)\n",
    "x = np.linspace(0,length,nx)\n",
    "y = np.linspace(0,height,ny)"
   ]
  },
  {
   "cell_type": "code",
   "execution_count": null,
   "metadata": {},
   "outputs": [],
   "source": [
    "# Initialize coefficients\n",
    "p = np.zeros(N+1); p[0] = 1000.0\n",
    "p_desired = np.zeros(N+1); p_desired[0] = 1000.0; p_desired[1] = 1000.0\n",
    "print('p_desired =', p_desired)"
   ]
  },
  {
   "cell_type": "code",
   "execution_count": null,
   "metadata": {},
   "outputs": [],
   "source": [
    "# Compute the friction coefficient beta^2\n",
    "def beta_squared(p):\n",
    "    res = p[0]\n",
    "    for k in range(1, N//2+1):\n",
    "        res += p[2*k-1]*np.sin(2*np.pi*k*x/length)\n",
    "        res += p[2*k]*np.cos(2*np.pi*k*x/length)\n",
    "    return res\n",
    "\n",
    "plt.figure(1)\n",
    "fig, ax = plt.subplots()\n",
    "ax.plot(x, beta_squared(p),label=\"initial\")\n",
    "plt.plot(x, beta_squared(p_desired), label=\"desired\")\n",
    "plt.xlim([0, length])\n",
    "legend = ax.legend()\n",
    "plt.xlabel(r'$x$')\n",
    "plt.ylabel(r'$\\beta^2$')\n",
    "plt.show()"
   ]
  },
  {
   "cell_type": "code",
   "execution_count": null,
   "metadata": {},
   "outputs": [],
   "source": [
    "# Compute current beta^2\n",
    "beta2 = beta_squared(p)"
   ]
  },
  {
   "cell_type": "code",
   "execution_count": null,
   "metadata": {},
   "outputs": [],
   "source": [
    "# Numbering scheme\n",
    "indices = np.arange(3*(nx-1)*(ny+1))\n",
    "                         \n",
    "u_indices = 3*np.arange((nx-1)*(ny+1))\n",
    "v_indices = u_indices+1\n",
    "p_indices = u_indices+2"
   ]
  },
  {
   "cell_type": "code",
   "execution_count": null,
   "metadata": {},
   "outputs": [],
   "source": [
    "# print(indices)\n",
    "# print(u_indices)\n",
    "# print(v_indices)\n",
    "# print(p_indices)"
   ]
  },
  {
   "cell_type": "code",
   "execution_count": null,
   "metadata": {},
   "outputs": [],
   "source": [
    "# Define indices\n",
    "node_indices = np.arange((nx-1)*(ny+1)).reshape((ny+1, nx-1), order=\"F\")\n",
    "node_indices_top_ghost = node_indices[0,:]\n",
    "node_indices_top = node_indices[1,:]\n",
    "node_indices_inner = node_indices[2:-2,:].flatten()\n",
    "node_indices_near_bottom = node_indices[-2,:]\n",
    "node_indices_bottom = node_indices[-1,:]"
   ]
  },
  {
   "cell_type": "code",
   "execution_count": null,
   "metadata": {},
   "outputs": [],
   "source": [
    "# print(node_indices)\n",
    "# print(\"---\")\n",
    "# print(node_indices_top_ghost)\n",
    "# print(\"---\")\n",
    "# print(node_indices_top)\n",
    "# print(\"---\")\n",
    "# print(node_indices_inner)\n",
    "# print(\"---\")\n",
    "# print(node_indices_near_bottom)\n",
    "# print(\"---\")\n",
    "# print(node_indices_bottom)"
   ]
  },
  {
   "cell_type": "code",
   "execution_count": null,
   "metadata": {},
   "outputs": [],
   "source": [
    "# Define indexing functions\n",
    "def node_index(i, j):\n",
    "    return j*(ny+1)+i\n",
    "\n",
    "def u_index(i, j):\n",
    "    n = 3*(nx-1)*(ny+1)\n",
    "    return (3*node_index(i, j))%n\n",
    "\n",
    "def v_index(i, j):\n",
    "    n = 3*(nx-1)*(ny+1)\n",
    "    return (3*node_index(i, j) + 1)%n\n",
    "\n",
    "def p_index(i, j):\n",
    "    n = 3*(nx-1)*(ny+1)\n",
    "    return (3*node_index(i, j) + 2)%n"
   ]
  },
  {
   "cell_type": "code",
   "execution_count": null,
   "metadata": {},
   "outputs": [],
   "source": [
    "# Print info of matrix construction\n",
    "def print_info(node, index):\n",
    "    if verbose==True:\n",
    "        if index%3==0:\n",
    "            print(\"Adding x-Stokes equation with index {} to node {}\".format(3*node, node))\n",
    "        if index%3==1:\n",
    "            print(\"Adding y-Stokes equation with index {} to node {}\".format(3*node+1, node))\n",
    "        if index%3==2:\n",
    "            print(\"Adding continuity equation with index {} to node {}\".format(3*node+2, node))"
   ]
  },
  {
   "cell_type": "code",
   "execution_count": null,
   "metadata": {},
   "outputs": [],
   "source": [
    "# Construct the coefficient matrix A\n",
    "verbose = False\n",
    "A = np.zeros((3*(nx-1)*(ny+1),3*(nx-1)*(ny+1)))\n",
    "for j in range(nx-1):\n",
    "    for i in range(ny+1):\n",
    "        node = node_index(i, j)\n",
    "        \n",
    "        if node in node_indices_top_ghost:\n",
    "            # Add x-Stokes equations to top ghost nodes\n",
    "            print_info(node, 3*node)\n",
    "            A[u_index(i,j),u_index(i-1,j)] = 0 #1/hy**2 ghost point\n",
    "            A[u_index(i,j),u_index(i,j)] -= 1/hy**2\n",
    "            A[u_index(i,j),v_index(i,j)] += 1/(hx*hy)\n",
    "            A[u_index(i,j),v_index(i,j-1)] = -1/(hx*hy)\n",
    "            \n",
    "            # Add y-Stokes equations to top ghost nodes\n",
    "            print_info(node, 3*node+1)\n",
    "            A[v_index(i,j),v_index(i-1,j)] = 2/hy**2\n",
    "            A[v_index(i,j),v_index(i,j)] -= 2/hy**2\n",
    "            A[v_index(i,j),v_index(i,j)] -= 2/hy**2\n",
    "            A[v_index(i,j),v_index(i+1,j)] += 2/hy**2\n",
    "            A[v_index(i,j),p_index(i-1,j)] = 0 #-1/hy # ghost point\n",
    "            A[v_index(i,j),p_index(i,j)] = 1/hy\n",
    "            \n",
    "            # Add pressure equation to top ghost nodes\n",
    "            print_info(node, 3*node+2)\n",
    "            A[p_index(i,j),p_index(i,j)] = 1\n",
    "        \n",
    "        if node in node_indices_top:\n",
    "            # Add x-Stokes equations to top nodes\n",
    "            print_info(node, 3*node)\n",
    "            A[u_index(i,j),u_index(i,j+1)] = 2/hx**2\n",
    "            A[u_index(i,j),u_index(i,j)] -= 2/hx**2\n",
    "            A[u_index(i,j),u_index(i,j)] -= 2/hx**2\n",
    "            A[u_index(i,j),u_index(i,j-1)] = 2/hx**2\n",
    "            A[u_index(i,j),p_index(i,j)] = -1/hx\n",
    "            A[u_index(i,j),p_index(i,j-1)] = 1/hx\n",
    "            A[u_index(i,j),u_index(i-1,j)] = 0 #1/hy**2 ghost point\n",
    "            A[u_index(i,j),u_index(i,j)] -= 1/hy**2\n",
    "            A[u_index(i,j),v_index(i,j)] = 1/(hx*hy)\n",
    "            A[u_index(i,j),v_index(i,j-1)] = -1/(hx*hy)\n",
    "            A[u_index(i,j),u_index(i,j)] -= 1/hy**2\n",
    "            A[u_index(i,j),u_index(i+1,j)] += 1/hy**2\n",
    "            A[u_index(i,j),v_index(i+1,j)] = -1/(hx*hy)\n",
    "            A[u_index(i,j),v_index(i+1,j-1)] = 1/(hx*hy)\n",
    "            \n",
    "            # Add y-Stokes equations to top nodes\n",
    "            print_info(node, 3*node+1)\n",
    "            A[v_index(i,j),v_index(i-1,j)] = 2/hy**2\n",
    "            A[v_index(i,j),v_index(i,j)] -= 2/hy**2\n",
    "            A[v_index(i,j),v_index(i,j)] -= 2/hy**2\n",
    "            A[v_index(i,j),v_index(i+1,j)] += 2/hy**2\n",
    "            A[v_index(i,j),p_index(i-1,j)] = 0 #-1/hy # ghost point\n",
    "            A[v_index(i,j),p_index(i,j)] = 1/hy\n",
    "            A[v_index(i,j),u_index(i-1,j+1)] = 1/(hx*hy)\n",
    "            A[v_index(i,j),u_index(i,j+1)] = -1/(hx*hy)\n",
    "            A[v_index(i,j),v_index(i,j+1)] = 1/hx**2\n",
    "            A[v_index(i,j),v_index(i,j)] -= 1/hx**2\n",
    "            A[v_index(i,j),u_index(i-1,j)] = -1/(hx*hy)\n",
    "            A[v_index(i,j),u_index(i,j)] = 1/(hx*hy)\n",
    "            A[v_index(i,j),v_index(i,j)] -= 1/hx**2\n",
    "            A[v_index(i,j),v_index(i,j-1)] = 1/hx**2\n",
    "\n",
    "            # Add continuity equations to top nodes\n",
    "            print_info(node, 3*node+2)\n",
    "            A[p_index(i,j),u_index(i,j+1)] = gamma/hx\n",
    "            A[p_index(i,j),u_index(i,j)] = -gamma/hx\n",
    "            A[p_index(i,j),v_index(i,j)] = gamma/hy\n",
    "            A[p_index(i,j),v_index(i+1,j)] = -gamma/hy\n",
    "            A[p_index(i,j),p_index(i,j)] = -1\n",
    "            \n",
    "        if node in node_indices_inner:\n",
    "            # Add x-Stokes equations to inner nodes\n",
    "            print_info(node, 3*node)\n",
    "            A[u_index(i,j),u_index(i,j+1)] = 2/hx**2\n",
    "            A[u_index(i,j),u_index(i,j)] -= 2/hx**2\n",
    "            A[u_index(i,j),u_index(i,j)] -= 2/hx**2\n",
    "            A[u_index(i,j),u_index(i,j-1)] = 2/hx**2\n",
    "            A[u_index(i,j),p_index(i,j)] = -1/hx\n",
    "            A[u_index(i,j),p_index(i,j-1)] = 1/hx\n",
    "            A[u_index(i,j),u_index(i-1,j)] = 1/hy**2\n",
    "            A[u_index(i,j),u_index(i,j)] -= 1/hy**2\n",
    "            A[u_index(i,j),v_index(i,j)] = 1/(hx*hy)\n",
    "            A[u_index(i,j),v_index(i,j-1)] = -1/(hx*hy)\n",
    "            A[u_index(i,j),u_index(i,j)] -= 1/hy**2\n",
    "            A[u_index(i,j),u_index(i+1,j)] += 1/hy**2\n",
    "            A[u_index(i,j),v_index(i+1,j)] = -1/(hx*hy)\n",
    "            A[u_index(i,j),v_index(i+1,j-1)] = 1/(hx*hy)\n",
    "            \n",
    "            # Add y-Stokes equations to inner nodes\n",
    "            print_info(node, 3*node+1)\n",
    "            A[v_index(i,j),v_index(i-1,j)] = 2/hy**2\n",
    "            A[v_index(i,j),v_index(i,j)] -= 2/hy**2\n",
    "            A[v_index(i,j),v_index(i,j)] -= 2/hy**2\n",
    "            A[v_index(i,j),v_index(i+1,j)] = 2/hy**2\n",
    "            A[v_index(i,j),p_index(i-1,j)] = -1/hy\n",
    "            A[v_index(i,j),p_index(i,j)] = 1/hy\n",
    "            A[v_index(i,j),u_index(i-1,j+1)] = 1/(hx*hy)\n",
    "            A[v_index(i,j),u_index(i,j+1)] = -1/(hx*hy)\n",
    "            A[v_index(i,j),v_index(i,j+1)] = 1/hx**2\n",
    "            A[v_index(i,j),v_index(i,j)] -= 1/hx**2\n",
    "            A[v_index(i,j),u_index(i-1,j)] = -1/(hx*hy)\n",
    "            A[v_index(i,j),u_index(i,j)] = 1/(hx*hy)\n",
    "            A[v_index(i,j),v_index(i,j)] -= 1/hx**2\n",
    "            A[v_index(i,j),v_index(i,j-1)] = 1/hx**2\n",
    "            \n",
    "            # Add continuity equations to inner nodes\n",
    "            print_info(node, 3*node+2)\n",
    "            A[p_index(i,j),u_index(i,j+1)] = gamma/hx\n",
    "            A[p_index(i,j),u_index(i,j)] = -gamma/hx\n",
    "            A[p_index(i,j),v_index(i,j)] = gamma/hy\n",
    "            A[p_index(i,j),v_index(i+1,j)] = -gamma/hy\n",
    "            A[p_index(i,j),p_index(i,j)] = -1\n",
    "        \n",
    "        if node in node_indices_near_bottom:\n",
    "            # Add x-Stokes equations to near-bottom nodes\n",
    "            print_info(node, 3*node)\n",
    "            A[u_index(i,j),u_index(i,j+1)] = 2/hx**2\n",
    "            A[u_index(i,j),u_index(i,j)] -= 2/hx**2\n",
    "            A[u_index(i,j),u_index(i,j)] -= 2/hx**2\n",
    "            A[u_index(i,j),u_index(i,j-1)] = 2/hx**2\n",
    "            A[u_index(i,j),p_index(i,j)] = -1/hx\n",
    "            A[u_index(i,j),p_index(i,j-1)] = 1/hx\n",
    "            A[u_index(i,j),u_index(i-1,j)] = 1/hy**2\n",
    "            A[u_index(i,j),u_index(i,j)] -= 1/hy**2\n",
    "            A[u_index(i,j),v_index(i,j)] = 1/(hx*hy)\n",
    "            A[u_index(i,j),v_index(i,j-1)] = -1/(hx*hy)\n",
    "            A[u_index(i,j),u_index(i,j)] -= 1/hy**2\n",
    "            A[u_index(i,j),u_index(i+1,j)] = 0 #1/hy**2 ghost point\n",
    "            A[u_index(i,j),v_index(i+1,j)] = -1/(hx*hy) # boundary point v=0, enforced elsewhere\n",
    "            A[u_index(i,j),v_index(i+1,j-1)] = 1/(hx*hy) # boundary point v=0, enforced elsewhere\n",
    "            \n",
    "            # Add y-Stokes equations to to near-bottom nodes\n",
    "            print_info(node, 3*node+1)\n",
    "            A[v_index(i,j),v_index(i-1,j)] = 2/hy**2\n",
    "            A[v_index(i,j),v_index(i,j)] -= 2/hy**2\n",
    "            A[v_index(i,j),v_index(i,j)] -= 2/hy**2\n",
    "            A[v_index(i,j),v_index(i+1,j)] = 2/hy**2 # boundary point v=0, enforced elsewhere\n",
    "            A[v_index(i,j),p_index(i-1,j)] = -1/hy\n",
    "            A[v_index(i,j),p_index(i,j)] = 1/hy\n",
    "            A[v_index(i,j),u_index(i-1,j+1)] = 1/(hx*hy)\n",
    "            A[v_index(i,j),u_index(i,j+1)] = -1/(hx*hy)\n",
    "            A[v_index(i,j),v_index(i,j+1)] = 1/hx**2\n",
    "            A[v_index(i,j),v_index(i,j)] -= 1/hx**2\n",
    "            A[v_index(i,j),u_index(i-1,j)] = -1/(hx*hy)\n",
    "            A[v_index(i,j),u_index(i,j)] = 1/(hx*hy)\n",
    "            A[v_index(i,j),v_index(i,j)] -= 1/hx**2\n",
    "            A[v_index(i,j),v_index(i,j-1)] = 1/hx**2\n",
    "            \n",
    "            # Add continuity equations to near-bottom nodes\n",
    "            print_info(node, 3*node+2)\n",
    "            A[p_index(i,j),u_index(i,j+1)] = gamma/hx\n",
    "            A[p_index(i,j),u_index(i,j)] = -gamma/hx\n",
    "            A[p_index(i,j),v_index(i,j)] = gamma/hy\n",
    "            A[p_index(i,j),v_index(i+1,j)] = -gamma/hy\n",
    "            A[p_index(i,j),p_index(i,j)] = -1\n",
    "        \n",
    "        if node in node_indices_bottom:\n",
    "            # Add boundary conditions to bottom nodes\n",
    "            print_info(node, 3*node)\n",
    "            A[u_index(i,j),u_index(i,j)] = (1/hy**2-beta2[j]/hy) # boundary point\n",
    "            \n",
    "            print_info(node, 3*node+1)\n",
    "            A[v_index(i,j),v_index(i,j)] = 1 # boundary point\n",
    "        \n",
    "        if node in node_indices_bottom:\n",
    "            # Add pressure equation to bottom nodes\n",
    "            print_info(node, 3*node+2)\n",
    "            A[p_index(i,j),p_index(i,j)] = 1"
   ]
  },
  {
   "cell_type": "code",
   "execution_count": null,
   "metadata": {},
   "outputs": [],
   "source": [
    "# Visualize A\n",
    "plt.spy(A, markersize=1)\n",
    "# np.savetxt(\"output/A.csv\", A, delimiter=\",\")"
   ]
  },
  {
   "cell_type": "code",
   "execution_count": null,
   "metadata": {},
   "outputs": [],
   "source": [
    "# Construct the right-hand side vector b\n",
    "b = np.zeros(3*(nx-1)*(ny+1))\n",
    "b[u_indices] = -rho*g*np.sin(alpha)\n",
    "b[v_indices] = rho*g*np.cos(alpha)\n",
    "b[p_indices] = 0\n",
    "\n",
    "# Special cases\n",
    "b[3*node_indices_top_ghost] = 0\n",
    "b[3*node_indices_top_ghost+1] = 0\n",
    "# b[3*node_indices_top_ghost+2] = 0\n",
    "b[3*node_indices_bottom] = 0\n",
    "b[3*node_indices_bottom+1] = 0\n",
    "# b[3*node_indices_bottom+2] = 0"
   ]
  },
  {
   "cell_type": "code",
   "execution_count": null,
   "metadata": {},
   "outputs": [],
   "source": [
    "# Solve the system Ax=b\n",
    "solution = np.linalg.solve(A, b)"
   ]
  },
  {
   "cell_type": "code",
   "execution_count": null,
   "metadata": {},
   "outputs": [],
   "source": [
    "# Extract values of u, v, and p from the solution\n",
    "u_values = np.take(solution, u_indices)\n",
    "v_values = np.take(solution, v_indices)\n",
    "p_values = np.take(solution, p_indices)"
   ]
  },
  {
   "cell_type": "code",
   "execution_count": null,
   "metadata": {},
   "outputs": [],
   "source": [
    "# Compute the averages at the center of each cell\n",
    "U_values = np.zeros((ny+1, nx))\n",
    "U_values[:,:-1] = u_values.reshape(ny+1, nx-1, order=\"F\")\n",
    "U_values[:,-1] = U_values[:,0] # Add first column to last one\n",
    "U_values = (U_values[1:-1,0:-1]+U_values[1:-1,1:])/2\n",
    "\n",
    "# Compute average of v at the center of each cell (ignore ghost points, i.e. first row)\n",
    "V_values = v_values.reshape(ny+1, nx-1, order=\"F\")\n",
    "V_values = (V_values[1:-1,:]+V_values[2:,:])/2\n",
    "\n",
    "# # Obtain pressure at the center of each cell\n",
    "P_values = p_values.reshape(ny+1, nx-1, order=\"F\")\n",
    "P_values = P_values[1:-1,:]"
   ]
  },
  {
   "cell_type": "code",
   "execution_count": null,
   "metadata": {},
   "outputs": [],
   "source": [
    "# print(U_values)\n",
    "# print(V_values)\n",
    "# print(P_values)"
   ]
  },
  {
   "cell_type": "code",
   "execution_count": null,
   "metadata": {},
   "outputs": [],
   "source": [
    "# Plot results\n",
    "fig, ax = plt.subplots()\n",
    "c = ax.pcolor(x, y, np.flipud(U_values))\n",
    "cbar = fig.colorbar(c)\n",
    "plt.xlabel(\"x\")\n",
    "plt.ylabel(\"y\")"
   ]
  },
  {
   "cell_type": "code",
   "execution_count": null,
   "metadata": {},
   "outputs": [],
   "source": [
    "# Plot the vector field\n",
    "X, Y = np.meshgrid(x[0:-1], y[1:])\n",
    "\n",
    "%matplotlib notebook\n",
    "plt.quiver(X, Y, np.flipud(U_values), np.flipud(V_values), units='width')"
   ]
  },
  {
   "cell_type": "code",
   "execution_count": null,
   "metadata": {},
   "outputs": [],
   "source": [
    "# from mpl_toolkits.mplot3d import Axes3D\n",
    "# from matplotlib import cm\n",
    "\n",
    "# X, Y = np.meshgrid(x[0:-1], y[1:])\n",
    "# print(np.shape(Y))\n",
    "\n",
    "# %matplotlib notebook\n",
    "# fig = plt.figure()\n",
    "# ax = Axes3D(fig)\n",
    "# ax.plot_surface(X, Y, np.flipud(P_values), rstride=1, cstride=1, cmap = cm.jet)"
   ]
  },
  {
   "cell_type": "code",
   "execution_count": null,
   "metadata": {},
   "outputs": [],
   "source": []
  },
  {
   "cell_type": "markdown",
   "metadata": {},
   "source": [
    "# References\n",
    "\n",
    "[1] Granzow, G. (2014). A tutorial on adjoint methods and their use for data assimilation in glaciology. Journal of Glaciology, 60(221), 440-446. doi:10.3189/2014JoG13J205\n",
    "\n",
    "[2] Becker, T. W. and B. J. P. Kaus (2018). Numerical Modeling of Earth Systems. An introduction to computational methods with focus on solid Earth applications of continuum mechanics. Lecture notes for USC GEOL557, v. 1.2.1, available online at http://www-udc.ig.utexas.edu/external/becker/Geodynamics557.pdf, accessed 01/2018."
   ]
  }
 ],
 "metadata": {
  "kernelspec": {
   "display_name": "Python 3",
   "language": "python",
   "name": "python3"
  },
  "language_info": {
   "codemirror_mode": {
    "name": "ipython",
    "version": 3
   },
   "file_extension": ".py",
   "mimetype": "text/x-python",
   "name": "python",
   "nbconvert_exporter": "python",
   "pygments_lexer": "ipython3",
   "version": "3.7.0"
  }
 },
 "nbformat": 4,
 "nbformat_minor": 2
}
